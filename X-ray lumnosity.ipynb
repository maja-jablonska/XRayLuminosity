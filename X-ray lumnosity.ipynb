{
 "cells": [
  {
   "cell_type": "code",
   "execution_count": 1,
   "metadata": {
    "ExecuteTime": {
     "end_time": "2021-11-30T22:23:11.814765Z",
     "start_time": "2021-11-30T22:23:11.148752Z"
    }
   },
   "outputs": [],
   "source": [
    "import h5py\n",
    "import os\n",
    "import glob\n",
    "import shutil\n",
    "import matplotlib.pyplot as plt\n",
    "import plotly.express as px\n",
    "import numpy as np\n",
    "\n",
    "from xray_binary_utils import stellar, compas_utils\n",
    "\n",
    "from typing import Tuple"
   ]
  },
  {
   "cell_type": "code",
   "execution_count": 156,
   "metadata": {},
   "outputs": [],
   "source": [
    "compas_utils.run_compas(5000)"
   ]
  },
  {
   "cell_type": "markdown",
   "metadata": {},
   "source": [
    "## Accretion disk luminosity"
   ]
  },
  {
   "cell_type": "code",
   "execution_count": 19,
   "metadata": {
    "ExecuteTime": {
     "end_time": "2021-11-30T22:24:28.476441Z",
     "start_time": "2021-11-30T22:24:28.472583Z"
    }
   },
   "outputs": [],
   "source": [
    "def accretion_luminosity(mass, dmass, radius):\n",
    "    return 1.90809*1e5*mass*dmass/radius"
   ]
  },
  {
   "cell_type": "code",
   "execution_count": 67,
   "metadata": {
    "ExecuteTime": {
     "end_time": "2021-11-30T22:25:48.563788Z",
     "start_time": "2021-11-30T22:25:48.539909Z"
    }
   },
   "outputs": [],
   "source": [
    "def calculate_compact_object_values(n_systems: int = 100):\n",
    "    # ages, luminosities\n",
    "    \n",
    "    xray_luminosities = []\n",
    "    accretor_ages = []\n",
    "    accretion_durations = []\n",
    "    \n",
    "    def is_accreting_onto_co(datum: np.array, donor_ind: int, acceptor_ind: int, ind: int) -> bool:\n",
    "        return stellar.is_compact_object(datum[f'Stellar_Type({acceptor_ind})'][ind]) and \\\n",
    "            stellar.is_main_sequence(datum[f'Stellar_Type({donor_ind})'][ind]) and datum[f'dmMT({acceptor_ind})'][ind] > 0.0\n",
    "    \n",
    "    for n in range(n_systems):\n",
    "    \n",
    "        output = compas_utils.open_detailed_output(n)\n",
    "        \n",
    "        accretion_indices = np.flatnonzero(output[f'dmMT(1)'])\n",
    "        \n",
    "        if len(accretion_indices) > 0:\n",
    "            \n",
    "            # Check if the accretion is occuring onto a compact object\n",
    "            accretion_onto_co_indices = []\n",
    "            acceptor_ind = None\n",
    "            \n",
    "            for ind in accretion_indices:\n",
    "                \n",
    "                # 1 is accreting onto 2\n",
    "                if is_accreting_onto_co(output, 1, 2, ind):\n",
    "                    accretion_onto_co_indices.append(ind)\n",
    "                    acceptor_ind = 2\n",
    "                # 2 is accreting onto 1\n",
    "                elif is_accreting_onto_co(output, 2, 1, ind):\n",
    "                    accretion_onto_co_indices.append(ind)\n",
    "                    acceptor_ind = 1\n",
    "                \n",
    "            if len(accretion_onto_co_indices) > 0:\n",
    "                \n",
    "                xray_luminosities.append(accretion_luminosity(mass = output[f'Mass({acceptor_ind})'][accretion_onto_co_indices],\n",
    "                                                              dmass = output[f'dmMT({acceptor_ind})'][accretion_onto_co_indices] * output[f'dT'][accretion_onto_co_indices] / 1e6,\n",
    "                                                              radius = output[f'Radius({acceptor_ind})'][accretion_onto_co_indices]))\n",
    "                accretor_ages.append(output[f'Age({acceptor_ind})'][accretion_onto_co_indices])\n",
    "                accretion_durations.append(output[f'dT'][accretion_onto_co_indices])\n",
    "    \n",
    "    return np.array([accretor_ages, accretion_durations, xray_luminosities]).T"
   ]
  },
  {
   "cell_type": "code",
   "execution_count": 72,
   "metadata": {
    "ExecuteTime": {
     "end_time": "2021-11-30T23:02:06.868113Z",
     "start_time": "2021-11-30T23:02:03.722227Z"
    },
    "scrolled": true
   },
   "outputs": [
    {
     "name": "stderr",
     "output_type": "stream",
     "text": [
      "<ipython-input-67-b9b14c343272>:43: VisibleDeprecationWarning: Creating an ndarray from ragged nested sequences (which is a list-or-tuple of lists-or-tuples-or ndarrays with different lengths or shapes) is deprecated. If you meant to do this, you must specify 'dtype=object' when creating the ndarray\n",
      "  return np.array([accretor_ages, accretion_durations, xray_luminosities]).T\n"
     ]
    }
   ],
   "source": [
    "ns = calculate_compact_object_values(1000)"
   ]
  },
  {
   "cell_type": "code",
   "execution_count": 81,
   "metadata": {},
   "outputs": [],
   "source": [
    "from collections import defaultdict"
   ]
  },
  {
   "cell_type": "code",
   "execution_count": 223,
   "metadata": {},
   "outputs": [],
   "source": [
    "def flattened_xray_luminosities(n_systems: int = 100):\n",
    "    # ages, luminosities\n",
    "    \n",
    "    xray_luminosities = defaultdict(list)\n",
    "    \n",
    "    def is_accreting_onto_co(datum: np.array, donor_ind: int, acceptor_ind: int, ind: int) -> bool:\n",
    "        return stellar.is_compact_object(datum[f'Stellar_Type({acceptor_ind})'][ind]) and \\\n",
    "            stellar.is_main_sequence(datum[f'Stellar_Type({donor_ind})'][ind]) and datum[f'dmMT({acceptor_ind})'][ind] > 0.0\n",
    "    \n",
    "    for n in range(n_systems):\n",
    "    \n",
    "        output = compas_utils.open_detailed_output(n)\n",
    "        \n",
    "        accretion_indices = np.flatnonzero(output[f'dmMT(1)'])\n",
    "        \n",
    "        if len(accretion_indices) > 0:\n",
    "            \n",
    "            # Check if the accretion is occuring onto a compact object\n",
    "            accretion_onto_co_indices = []\n",
    "            acceptor_ind = None\n",
    "            donor_ind = None\n",
    "            \n",
    "            for ind in accretion_indices:\n",
    "                \n",
    "                # 1 is accreting onto 2\n",
    "                if is_accreting_onto_co(output, 1, 2, ind):\n",
    "                    accretion_onto_co_indices.append(ind)\n",
    "                    donor_ind = 1\n",
    "                    acceptor_ind = 2\n",
    "                # 2 is accreting onto 1\n",
    "                elif is_accreting_onto_co(output, 2, 1, ind):\n",
    "                    accretion_onto_co_indices.append(ind)\n",
    "                    acceptor_ind = 1\n",
    "                    donor_ind = 2\n",
    "                \n",
    "            for ind in accretion_onto_co_indices:\n",
    "                \n",
    "                luminosity = accretion_luminosity(mass = output[f'Mass({acceptor_ind})'][ind],\n",
    "                                                  dmass = output[f'dmMT({acceptor_ind})'][ind] * output[f'dT'][ind] / 1e6,\n",
    "                                                  radius = output[f'Radius({acceptor_ind})'][ind])\n",
    "                \n",
    "                if luminosity > 400:\n",
    "                    # print('Mass:', output[f'Mass({acceptor_ind})'][ind], 'dM/T:', output[f'dmMT({acceptor_ind})'][ind], 'dT:', output[f'dT'][ind],\n",
    "                    #       'radius:', output[f'Radius({acceptor_ind})'][ind])\n",
    "                    continue\n",
    "                \n",
    "                xray_luminosities[np.around(output[f'Age({acceptor_ind})'][ind], -1)].append(luminosity)\n",
    "                \n",
    "    \n",
    "    return xray_luminosities"
   ]
  },
  {
   "cell_type": "code",
   "execution_count": 224,
   "metadata": {
    "ExecuteTime": {
     "end_time": "2021-11-30T23:02:42.885997Z",
     "start_time": "2021-11-30T23:02:42.879397Z"
    }
   },
   "outputs": [],
   "source": [
    "luminosities = flattened_xray_luminosities(5000)"
   ]
  },
  {
   "cell_type": "code",
   "execution_count": 225,
   "metadata": {},
   "outputs": [],
   "source": [
    "ages = list(luminosities.keys())\n",
    "ages.sort()\n",
    "xray_luminosities = []\n",
    "\n",
    "# Omit the 0th age\n",
    "for age in ages[1:-30]:\n",
    "    xray_luminosities.append(np.sum(luminosities[age]))"
   ]
  },
  {
   "cell_type": "code",
   "execution_count": 226,
   "metadata": {},
   "outputs": [],
   "source": [
    "import matplotlib.pyplot as plt"
   ]
  },
  {
   "cell_type": "code",
   "execution_count": 227,
   "metadata": {},
   "outputs": [
    {
     "data": {
      "image/png": "[encoded data removed]",
      "text/plain": [
       "<Figure size 432x288 with 1 Axes>"
      ]
     },
     "metadata": {
      "needs_background": "light"
     },
     "output_type": "display_data"
    }
   ],
   "source": [
    "plt.plot(ages[1:-30], xray_luminosities)\n",
    "plt.grid(linestyle = \"--\")\n",
    "plt.gca().set_ylabel('X-ray luminosity [Lsun]');\n",
    "plt.gca().set_xlabel('Time [Myr]');"
   ]
  },
  {
   "cell_type": "code",
   "execution_count": null,
   "metadata": {},
   "outputs": [],
   "source": []
  }
 ],
 "metadata": {
  "interpreter": {
   "hash": "0e40ed5574b2401af71a77d42fd20bf1fb19d4adef42bc3d624f8a02afe9c728"
  },
  "kernelspec": {
   "display_name": "Astronomy (Python 3.8)",
   "language": "python",
   "name": "python3"
  },
  "language_info": {
   "codemirror_mode": {
    "name": "ipython",
    "version": 3
   },
   "file_extension": ".py",
   "mimetype": "text/x-python",
   "name": "python",
   "nbconvert_exporter": "python",
   "pygments_lexer": "ipython3",
   "version": "3.8.8"
  },
  "toc": {
   "base_numbering": 1,
   "nav_menu": {},
   "number_sections": true,
   "sideBar": true,
   "skip_h1_title": false,
   "title_cell": "Table of Contents",
   "title_sidebar": "Contents",
   "toc_cell": false,
   "toc_position": {},
   "toc_section_display": true,
   "toc_window_display": false
  },
  "varInspector": {
   "cols": {
    "lenName": 16,
    "lenType": 16,
    "lenVar": 40
   },
   "kernels_config": {
    "python": {
     "delete_cmd_postfix": "",
     "delete_cmd_prefix": "del ",
     "library": "var_list.py",
     "varRefreshCmd": "print(var_dic_list())"
    },
    "r": {
     "delete_cmd_postfix": ") ",
     "delete_cmd_prefix": "rm(",
     "library": "var_list.r",
     "varRefreshCmd": "cat(var_dic_list()) "
    }
   },
   "types_to_exclude": [
    "module",
    "function",
    "builtin_function_or_method",
    "instance",
    "_Feature"
   ],
   "window_display": false
  }
 },
 "nbformat": 4,
 "nbformat_minor": 4
}
