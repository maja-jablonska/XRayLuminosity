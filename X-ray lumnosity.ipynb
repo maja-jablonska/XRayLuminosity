{
 "cells": [
  {
   "cell_type": "code",
   "execution_count": 1,
   "metadata": {
    "ExecuteTime": {
     "end_time": "2021-11-30T22:23:11.814765Z",
     "start_time": "2021-11-30T22:23:11.148752Z"
    }
   },
   "outputs": [],
   "source": [
    "import h5py\n",
    "import os\n",
    "import glob\n",
    "import shutil\n",
    "import matplotlib.pyplot as plt\n",
    "import plotly.express as px\n",
    "import numpy as np"
   ]
  },
  {
   "cell_type": "code",
   "execution_count": 2,
   "metadata": {
    "ExecuteTime": {
     "end_time": "2021-11-30T22:23:11.826615Z",
     "start_time": "2021-11-30T22:23:11.823008Z"
    }
   },
   "outputs": [],
   "source": [
    "NEUTRON_STAR: int = 13\n",
    "BLACK_HOLE: int = 14"
   ]
  },
  {
   "cell_type": "code",
   "execution_count": 33,
   "metadata": {
    "ExecuteTime": {
     "end_time": "2021-11-30T23:01:56.116201Z",
     "start_time": "2021-11-30T23:01:56.110288Z"
    }
   },
   "outputs": [],
   "source": [
    "def run_compas(n_systems: int = 100):\n",
    "    os.system(f'COMPAS -n {n_systems} --detailed-output --rlof-printing')\n",
    "    \n",
    "def remove_output():\n",
    "    for f in glob.glob(\"COMPAS_Output*\"):\n",
    "        shutil.rmtree(f)\n",
    "\n",
    "def open_output() -> h5py.File:\n",
    "    return h5py.File('COMPAS_Output_2/COMPAS_Output.h5', 'r')\n",
    "\n",
    "def open_detailed_output(n: int = 0) -> h5py.File:\n",
    "    return h5py.File(f'COMPAS_Output_2/Detailed_Output/BSE_Detailed_Output_{n}.h5', 'r')"
   ]
  },
  {
   "cell_type": "code",
   "execution_count": 32,
   "metadata": {
    "ExecuteTime": {
     "end_time": "2021-11-30T22:40:23.559005Z",
     "start_time": "2021-11-30T22:26:29.536404Z"
    }
   },
   "outputs": [],
   "source": [
    "run_compas(3000)"
   ]
  },
  {
   "cell_type": "code",
   "execution_count": 11,
   "metadata": {
    "ExecuteTime": {
     "end_time": "2021-11-30T21:08:55.708273Z",
     "start_time": "2021-11-30T21:08:55.705096Z"
    }
   },
   "outputs": [],
   "source": [
    "o = open_output()"
   ]
  },
  {
   "cell_type": "code",
   "execution_count": 12,
   "metadata": {
    "ExecuteTime": {
     "end_time": "2021-11-30T21:09:20.324579Z",
     "start_time": "2021-11-30T21:09:20.301525Z"
    }
   },
   "outputs": [
    {
     "data": {
      "text/plain": [
       "<KeysViewHDF5 ['CE_Alpha', 'CH_on_MS(1)', 'CH_on_MS(2)', 'Eccentricity@ZAMS', 'Equilibrated_At_Birth', 'Error', 'LBV_Factor', 'Mass@ZAMS(1)', 'Mass@ZAMS(2)', 'Merger', 'Merger_At_Birth', 'Metallicity@ZAMS(1)', 'Metallicity@ZAMS(2)', 'Omega@ZAMS(1)', 'Omega@ZAMS(2)', 'SEED', 'SN_Kick_Magnitude_Random_Number(1)', 'SN_Kick_Magnitude_Random_Number(2)', 'SemiMajorAxis@ZAMS', 'Sigma_Kick_CCSN_BH', 'Sigma_Kick_CCSN_NS', 'Sigma_Kick_ECSN', 'Sigma_Kick_USSN', 'Stellar_Type(1)', 'Stellar_Type(2)', 'Stellar_Type@ZAMS(1)', 'Stellar_Type@ZAMS(2)', 'Unbound', 'WR_Factor']>"
      ]
     },
     "execution_count": 12,
     "metadata": {},
     "output_type": "execute_result"
    }
   ],
   "source": [
    "o['BSE_System_Parameters'].keys()"
   ]
  },
  {
   "cell_type": "markdown",
   "metadata": {},
   "source": [
    "## Accretion disk luminosity"
   ]
  },
  {
   "cell_type": "code",
   "execution_count": 12,
   "metadata": {
    "ExecuteTime": {
     "end_time": "2021-11-30T22:24:28.476441Z",
     "start_time": "2021-11-30T22:24:28.472583Z"
    }
   },
   "outputs": [],
   "source": [
    "def accretion_luminosity(mass, dmass, radius):\n",
    "    return -1.90809*1e5*mass*dmass/radius"
   ]
  },
  {
   "cell_type": "code",
   "execution_count": 13,
   "metadata": {
    "ExecuteTime": {
     "end_time": "2021-11-30T22:24:28.754125Z",
     "start_time": "2021-11-30T22:24:28.751010Z"
    }
   },
   "outputs": [],
   "source": [
    "from typing import Tuple"
   ]
  },
  {
   "cell_type": "code",
   "execution_count": 14,
   "metadata": {
    "ExecuteTime": {
     "end_time": "2021-11-30T22:24:29.067984Z",
     "start_time": "2021-11-30T22:24:29.060073Z"
    }
   },
   "outputs": [],
   "source": [
    "def get_mass_transfer_event(object_data: np.array, acceptor_ind: int = 1) -> Tuple[np.array, np.float64]:\n",
    "    donor_ind: int = 1 if acceptor_ind == 2 else 2\n",
    "    \n",
    "    mass_transfer_indices: np.array = np.flatnonzero(object_data[f'dmMT({acceptor_ind})'])\n",
    "\n",
    "    # Why is the acceptor age 0.0 ?\n",
    "    acceptor_age_at_mass_transfer_start = object_data[f'Age({donor_ind})'][mass_transfer_indices[0]]\n",
    "    \n",
    "    acceptor_masses = object_data[f'Mass({acceptor_ind})'][mass_transfer_indices]\n",
    "    mass_transfer_rates = object_data[f'dmMT({acceptor_ind})'][mass_transfer_indices]\n",
    "    dTs = object_data[f'dT'][mass_transfer_indices]\n",
    "    acceptor_radii = object_data[f'Radius({acceptor_ind})'][mass_transfer_indices]\n",
    "\n",
    "    # The timesteps are in megayears\n",
    "    xray_luminosities = accretion_luminosity(acceptor_masses, mass_transfer_rates*dTs/1e6, acceptor_radii)\n",
    "\n",
    "    return np.array([xray_luminosities, dTs]).T, acceptor_age_at_mass_transfer_start"
   ]
  },
  {
   "cell_type": "code",
   "execution_count": 24,
   "metadata": {
    "ExecuteTime": {
     "end_time": "2021-11-30T22:25:40.470742Z",
     "start_time": "2021-11-30T22:25:40.459368Z"
    }
   },
   "outputs": [
    {
     "name": "stdout",
     "output_type": "stream",
     "text": [
      "9.400379724364555\n",
      "333.116797237441\n",
      "0.0036310187297005567\n"
     ]
    }
   ],
   "source": [
    "do = open_detailed_output(168)\n",
    "e, age = get_mass_transfer_event(do, 1)\n",
    "print(age)\n",
    "print(e[0][0])\n",
    "print(np.sum(e[:, 1]))"
   ]
  },
  {
   "cell_type": "code",
   "execution_count": 25,
   "metadata": {
    "ExecuteTime": {
     "end_time": "2021-11-30T22:25:48.563788Z",
     "start_time": "2021-11-30T22:25:48.539909Z"
    }
   },
   "outputs": [],
   "source": [
    "def calculate_compact_object_values(n_systems: int = 100):\n",
    "    # ages, luminosities\n",
    "    \n",
    "    xray_luminosities = []\n",
    "    ages = []\n",
    "    \n",
    "    def is_compact_object(datum) -> bool:\n",
    "        return datum==NEUTRON_STAR or datum==BLACK_HOLE\n",
    "    \n",
    "    def is_accretion_onto_co(datum) -> bool:\n",
    "        return datum>0\n",
    "    \n",
    "    for n in range(n_systems):\n",
    "        output = open_detailed_output(n)\n",
    "        \n",
    "        FIRST_STAR_CO: bool = is_compact_object(output['Stellar_Type(1)'][-1])\n",
    "        SECOND_STAR_CO: bool = is_compact_object(output['Stellar_Type(2)'][-1])\n",
    "            \n",
    "        if FIRST_STAR_CO and not SECOND_STAR_CO:\n",
    "            if is_accretion_onto_co(output['dmMT(2)'][-1]):\n",
    "                luminosity, age = get_mass_transfer_event(output, 1)\n",
    "            else:\n",
    "                continue\n",
    "            \n",
    "        elif not FIRST_STAR_CO and SECOND_STAR_CO:\n",
    "            if is_accretion_onto_co(output['dmMT(1)'][-1]):\n",
    "                luminosity, age = get_mass_transfer_event(output, 2)\n",
    "            else:\n",
    "                continue\n",
    "        else:\n",
    "            continue\n",
    "                \n",
    "        # Get last non-zero age\n",
    "        ages.append(age)\n",
    "        xray_luminosities.append(luminosity[0][0])\n",
    "    \n",
    "    return np.array([ages, xray_luminosities]).T"
   ]
  },
  {
   "cell_type": "code",
   "execution_count": 34,
   "metadata": {
    "ExecuteTime": {
     "end_time": "2021-11-30T23:02:06.868113Z",
     "start_time": "2021-11-30T23:02:03.722227Z"
    },
    "scrolled": true
   },
   "outputs": [],
   "source": [
    "ns = calculate_compact_object_values(3000)"
   ]
  },
  {
   "cell_type": "code",
   "execution_count": 35,
   "metadata": {
    "ExecuteTime": {
     "end_time": "2021-11-30T23:02:06.892543Z",
     "start_time": "2021-11-30T23:02:06.888781Z"
    }
   },
   "outputs": [
    {
     "data": {
      "text/plain": [
       "8"
      ]
     },
     "execution_count": 35,
     "metadata": {},
     "output_type": "execute_result"
    }
   ],
   "source": [
    "len(ns)"
   ]
  },
  {
   "cell_type": "code",
   "execution_count": 36,
   "metadata": {
    "ExecuteTime": {
     "end_time": "2021-11-30T23:02:06.950756Z",
     "start_time": "2021-11-30T23:02:06.945341Z"
    }
   },
   "outputs": [
    {
     "data": {
      "text/plain": [
       "array([[ 1.73235037e+01,  2.48135846e-02],\n",
       "       [ 8.85223208e+00,  2.32696266e+02],\n",
       "       [ 0.00000000e+00, -2.03863029e-02],\n",
       "       [ 2.28908881e+01,  1.79023976e+02],\n",
       "       [ 0.00000000e+00, -2.01261615e-02],\n",
       "       [ 8.84017360e+00,  2.69825070e+02],\n",
       "       [ 1.11378681e+01,  2.89939056e+02],\n",
       "       [ 1.11066244e+01,  2.64610943e-02]])"
      ]
     },
     "execution_count": 36,
     "metadata": {},
     "output_type": "execute_result"
    }
   ],
   "source": [
    "ns"
   ]
  },
  {
   "cell_type": "code",
   "execution_count": 37,
   "metadata": {
    "ExecuteTime": {
     "end_time": "2021-11-30T23:02:42.419706Z",
     "start_time": "2021-11-30T23:02:42.416651Z"
    },
    "scrolled": true
   },
   "outputs": [],
   "source": [
    "ns_sorted = np.sort(ns, axis=0)"
   ]
  },
  {
   "cell_type": "code",
   "execution_count": 38,
   "metadata": {
    "ExecuteTime": {
     "end_time": "2021-11-30T23:02:42.885997Z",
     "start_time": "2021-11-30T23:02:42.879397Z"
    }
   },
   "outputs": [],
   "source": [
    "cumulative_luminosity = []\n",
    "index = 0\n",
    "\n",
    "timestamps = np.linspace(np.min(ns[:, 0]), np.max(ns[:, 0]), 1000)\n",
    "\n",
    "for ns_row in ns_sorted:\n",
    "    while ns_row[0]>timestamps[index]:\n",
    "        cumulative_luminosity.append(ns_row[1])\n",
    "        index += 1\n",
    "\n",
    "cumulative_luminosity.append(ns_sorted[-1, 1])"
   ]
  },
  {
   "cell_type": "code",
   "execution_count": null,
   "metadata": {},
   "outputs": [],
   "source": []
  }
 ],
 "metadata": {
  "kernelspec": {
   "display_name": "Astronomy (Python 3.8)",
   "language": "python",
   "name": "astronomy"
  },
  "language_info": {
   "codemirror_mode": {
    "name": "ipython",
    "version": 3
   },
   "file_extension": ".py",
   "mimetype": "text/x-python",
   "name": "python",
   "nbconvert_exporter": "python",
   "pygments_lexer": "ipython3",
   "version": "3.8.6"
  },
  "toc": {
   "base_numbering": 1,
   "nav_menu": {},
   "number_sections": true,
   "sideBar": true,
   "skip_h1_title": false,
   "title_cell": "Table of Contents",
   "title_sidebar": "Contents",
   "toc_cell": false,
   "toc_position": {},
   "toc_section_display": true,
   "toc_window_display": false
  },
  "varInspector": {
   "cols": {
    "lenName": 16,
    "lenType": 16,
    "lenVar": 40
   },
   "kernels_config": {
    "python": {
     "delete_cmd_postfix": "",
     "delete_cmd_prefix": "del ",
     "library": "var_list.py",
     "varRefreshCmd": "print(var_dic_list())"
    },
    "r": {
     "delete_cmd_postfix": ") ",
     "delete_cmd_prefix": "rm(",
     "library": "var_list.r",
     "varRefreshCmd": "cat(var_dic_list()) "
    }
   },
   "types_to_exclude": [
    "module",
    "function",
    "builtin_function_or_method",
    "instance",
    "_Feature"
   ],
   "window_display": false
  }
 },
 "nbformat": 4,
 "nbformat_minor": 4
}
